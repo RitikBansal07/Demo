{
 "cells": [
  {
   "cell_type": "code",
   "execution_count": 1,
   "id": "7a1c0e77-3e11-4bf7-80db-c90ef2438f45",
   "metadata": {},
   "outputs": [],
   "source": [
    "my_list = [1,2,\"Ritik\", 6.7, True]"
   ]
  },
  {
   "cell_type": "code",
   "execution_count": 2,
   "id": "5e287cb7-bfaf-4132-a899-a1db8ed816a0",
   "metadata": {},
   "outputs": [
    {
     "data": {
      "text/plain": [
       "[1, 2, 'Ritik', 6.7, True]"
      ]
     },
     "execution_count": 2,
     "metadata": {},
     "output_type": "execute_result"
    }
   ],
   "source": [
    "my_list"
   ]
  },
  {
   "cell_type": "code",
   "execution_count": 3,
   "id": "227ff294-51e3-4234-a8f7-5c5ce8fa54b1",
   "metadata": {},
   "outputs": [],
   "source": [
    "my_tuple = (1, \"Ritik\")"
   ]
  },
  {
   "cell_type": "code",
   "execution_count": 4,
   "id": "e0a17db3-15f9-4079-b35e-3b0cc49b8a94",
   "metadata": {},
   "outputs": [
    {
     "data": {
      "text/plain": [
       "(1, 'Ritik')"
      ]
     },
     "execution_count": 4,
     "metadata": {},
     "output_type": "execute_result"
    }
   ],
   "source": [
    "my_tuple"
   ]
  },
  {
   "cell_type": "code",
   "execution_count": 5,
   "id": "0ce8385e-b343-4981-a754-3c5f4f125516",
   "metadata": {},
   "outputs": [],
   "source": [
    "my_list.append(77)"
   ]
  },
  {
   "cell_type": "code",
   "execution_count": 6,
   "id": "d23676d6-24be-49ea-8246-a37a3f5057ad",
   "metadata": {},
   "outputs": [
    {
     "data": {
      "text/plain": [
       "[1, 2, 'Ritik', 6.7, True, 77]"
      ]
     },
     "execution_count": 6,
     "metadata": {},
     "output_type": "execute_result"
    }
   ],
   "source": [
    "my_list"
   ]
  },
  {
   "cell_type": "code",
   "execution_count": 7,
   "id": "199ad33e-f47d-4768-8917-ffa0619f3801",
   "metadata": {},
   "outputs": [
    {
     "data": {
      "text/plain": [
       "77"
      ]
     },
     "execution_count": 7,
     "metadata": {},
     "output_type": "execute_result"
    }
   ],
   "source": [
    "my_list.pop()"
   ]
  },
  {
   "cell_type": "code",
   "execution_count": 8,
   "id": "ebc6df45-31e5-46c1-806f-3951251ff5dc",
   "metadata": {},
   "outputs": [
    {
     "data": {
      "text/plain": [
       "[1, 2, 'Ritik', 6.7, True]"
      ]
     },
     "execution_count": 8,
     "metadata": {},
     "output_type": "execute_result"
    }
   ],
   "source": [
    "my_list"
   ]
  },
  {
   "cell_type": "code",
   "execution_count": 11,
   "id": "87d71a0c-d04e-4689-94f3-3012b2c9152e",
   "metadata": {},
   "outputs": [],
   "source": [
    "students = {\n",
    "    \"Alice\": {\"Maths\":85, \"Science\": 90, \"English\": 78},\n",
    "    \"Bob\": {\"Maths\":75, \"Science\":80, \"English\": 72},\n",
    "    \"Charlie\": {\"Maths\": 92, \"Science\": 88, \"English\": 95}\n",
    "}"
   ]
  },
  {
   "cell_type": "code",
   "execution_count": 15,
   "id": "066e644d-c6dd-473a-bae8-de7d91f8dfca",
   "metadata": {},
   "outputs": [
    {
     "name": "stdin",
     "output_type": "stream",
     "text": [
      "Enter name of student:  Bob\n"
     ]
    },
    {
     "name": "stdout",
     "output_type": "stream",
     "text": [
      "Marks for Bob\n",
      "Maths:75\n",
      "Science:80\n",
      "English:72\n"
     ]
    }
   ],
   "source": [
    "student = input(\"Enter name of student: \")\n",
    "if student in students:\n",
    "    print(f\"Marks for {student}\")\n",
    "    for sub, marks in students[student].items():\n",
    "        print(f\"{sub}:{marks}\")\n",
    "else:\n",
    "    print(\"Student not found\")"
   ]
  },
  {
   "cell_type": "code",
   "execution_count": 18,
   "id": "71263d60-ef61-4d9f-b588-e3234c442b31",
   "metadata": {},
   "outputs": [
    {
     "data": {
      "text/plain": [
       "dict_items([('Maths', 75), ('Science', 80), ('English', 72)])"
      ]
     },
     "execution_count": 18,
     "metadata": {},
     "output_type": "execute_result"
    }
   ],
   "source": [
    "students['Bob'].items()"
   ]
  },
  {
   "cell_type": "code",
   "execution_count": 19,
   "id": "a176e728-9029-4aca-afb2-e474a8111ff2",
   "metadata": {},
   "outputs": [],
   "source": [
    "import re"
   ]
  },
  {
   "cell_type": "code",
   "execution_count": 23,
   "id": "9b7076a8-b4e0-4224-ad45-01a1e3f8a363",
   "metadata": {},
   "outputs": [
    {
     "name": "stdin",
     "output_type": "stream",
     "text": [
      "Enter email:  ritik\n"
     ]
    },
    {
     "name": "stdout",
     "output_type": "stream",
     "text": [
      "Not-valid email\n"
     ]
    }
   ],
   "source": [
    "def is_valid(Email):\n",
    "    pattern = r'^[a-zA-Z0-9._%+-]+@[a-zA-Z0-9.-]+\\.[a-zA-Z]{2,}$'\n",
    "    return bool(re.match(pattern, Email))\n",
    "\n",
    "Email = input(\"Enter email: \")\n",
    "\n",
    "print(\"Valid email\" if is_valid(Email) else \"Not-valid email\")"
   ]
  },
  {
   "cell_type": "code",
   "execution_count": 25,
   "id": "5e638412-895a-409f-b978-3d8e6e13d64a",
   "metadata": {},
   "outputs": [
    {
     "name": "stdin",
     "output_type": "stream",
     "text": [
      "Enter a number:  Manish\n"
     ]
    },
    {
     "name": "stdout",
     "output_type": "stream",
     "text": [
      "Invalid input!!! Please enter a number.\n"
     ]
    }
   ],
   "source": [
    "try:\n",
    "    num = float(input(\"Enter a number: \"))\n",
    "    print(\"You entered: \", num)\n",
    "except ValueError:\n",
    "    print(\"Invalid input!!! Please enter a number.\")\n",
    "    "
   ]
  },
  {
   "cell_type": "code",
   "execution_count": null,
   "id": "09d409c7-9317-4e22-819e-61246e3a89fb",
   "metadata": {},
   "outputs": [],
   "source": [
    "pattern = r'^(?=.*[A-Z])(?=.*[a-z])(?=.*[0-9])(?=.*[@$!%*?&])[A-Za-z0-9@$!%*?&]{8,}$'"
   ]
  },
  {
   "cell_type": "code",
   "execution_count": 27,
   "id": "0cdf5175-7872-4055-89fe-b63c49dbc5a7",
   "metadata": {},
   "outputs": [
    {
     "data": {
      "text/plain": [
       "7"
      ]
     },
     "execution_count": 27,
     "metadata": {},
     "output_type": "execute_result"
    }
   ],
   "source": [
    "def add_two(a, b):\n",
    "    return a+b\n",
    "\n",
    "add_two(2,5)"
   ]
  },
  {
   "cell_type": "code",
   "execution_count": 28,
   "id": "5f7b4a47-2fea-42d0-9f59-37771f1833c4",
   "metadata": {},
   "outputs": [],
   "source": [
    "ls = [1,2,3,4,5,6,7,8,9,10]"
   ]
  },
  {
   "cell_type": "code",
   "execution_count": 31,
   "id": "90a7ab00-21b3-4e14-b444-fcd9db57b6af",
   "metadata": {},
   "outputs": [],
   "source": [
    "def even_num(ls):\n",
    "    return [i for i in ls if i%2==0]"
   ]
  },
  {
   "cell_type": "code",
   "execution_count": 32,
   "id": "7e2b54d0-9936-4ac0-abb4-ffcda692a54e",
   "metadata": {},
   "outputs": [
    {
     "data": {
      "text/plain": [
       "[2, 4, 6, 8, 10]"
      ]
     },
     "execution_count": 32,
     "metadata": {},
     "output_type": "execute_result"
    }
   ],
   "source": [
    "even_num(ls)"
   ]
  },
  {
   "cell_type": "code",
   "execution_count": 33,
   "id": "415bf1f7-f3b7-474f-a7b2-6eeda37b503b",
   "metadata": {},
   "outputs": [
    {
     "name": "stdout",
     "output_type": "stream",
     "text": [
      "35\n"
     ]
    }
   ],
   "source": [
    "mul = lambda x, y:x*y\n",
    "\n",
    "print(mul(7,5))"
   ]
  },
  {
   "cell_type": "code",
   "execution_count": 36,
   "id": "b470d6eb-e55e-439c-a904-f692a9fd1199",
   "metadata": {},
   "outputs": [],
   "source": [
    "def return_str(string):\n",
    "    return string[::-1]"
   ]
  },
  {
   "cell_type": "code",
   "execution_count": 37,
   "id": "60b571ef-3ade-478f-8c31-38c7c4d60a39",
   "metadata": {},
   "outputs": [
    {
     "data": {
      "text/plain": [
       "'kitiR'"
      ]
     },
     "execution_count": 37,
     "metadata": {},
     "output_type": "execute_result"
    }
   ],
   "source": [
    "return_str(\"Ritik\")"
   ]
  },
  {
   "cell_type": "code",
   "execution_count": null,
   "id": "7e5c16a7-7a7f-4797-9e14-0a59e81fa22b",
   "metadata": {},
   "outputs": [],
   "source": []
  }
 ],
 "metadata": {
  "kernelspec": {
   "display_name": "Python 3 (ipykernel)",
   "language": "python",
   "name": "python3"
  },
  "language_info": {
   "codemirror_mode": {
    "name": "ipython",
    "version": 3
   },
   "file_extension": ".py",
   "mimetype": "text/x-python",
   "name": "python",
   "nbconvert_exporter": "python",
   "pygments_lexer": "ipython3",
   "version": "3.12.7"
  }
 },
 "nbformat": 4,
 "nbformat_minor": 5
}
